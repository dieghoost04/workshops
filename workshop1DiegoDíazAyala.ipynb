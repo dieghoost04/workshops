{
 "cells": [
  {
   "cell_type": "markdown",
   "id": "d4b50b72",
   "metadata": {},
   "source": [
    "# Workshop 1\n",
    "# Diego Díaz Ayala\n",
    "# A01770236"
   ]
  },
  {
   "cell_type": "markdown",
   "id": "7e0e2db2",
   "metadata": {},
   "source": [
    "## 2 Descriptive Statistics"
   ]
  },
  {
   "cell_type": "markdown",
   "id": "3a5deffa",
   "metadata": {},
   "source": [
    "- Are used to summarize information: from raw data to any phenomenon.\n",
    "- Gives us a first general idea of a phenomenon.\n",
    "\n",
    "Most important descriptive statistics are:\n",
    "\n",
    "- Measures of central tendency.\n",
    "- Measures of dispersion."
   ]
  },
  {
   "cell_type": "markdown",
   "id": "e8cc1c68",
   "metadata": {},
   "source": [
    "## 2.1 Central tendecy measures."
   ]
  },
  {
   "cell_type": "markdown",
   "id": "a3c13f62",
   "metadata": {},
   "source": [
    "- Arithmetic mean\n",
    "- Median\n",
    "- Mode "
   ]
  },
  {
   "cell_type": "markdown",
   "id": "1dc3b845",
   "metadata": {},
   "source": [
    "## 2.1.1 Arithmetic mean"
   ]
  },
  {
   "cell_type": "markdown",
   "id": "b4ba9320",
   "metadata": {},
   "source": [
    "Arithmetic mean is a measure that tells us the Average value\n",
    "\n",
    "\n",
    "Variable represents an Attribute of a Subject\n",
    "\n"
   ]
  },
  {
   "cell_type": "code",
   "execution_count": 3,
   "id": "939b7d54",
   "metadata": {},
   "outputs": [
    {
     "data": {
      "text/plain": [
       "30.0"
      ]
     },
     "execution_count": 3,
     "metadata": {},
     "output_type": "execute_result"
    }
   ],
   "source": [
    "data = np.array([10,20,30,40,50])\n",
    "x_overline = np.sum(data) / len(data)\n",
    "x_overline"
   ]
  },
  {
   "cell_type": "markdown",
   "id": "72340588",
   "metadata": {},
   "source": [
    "## 2.1.2 The Median"
   ]
  },
  {
   "cell_type": "markdown",
   "id": "cf3fb268",
   "metadata": {},
   "source": [
    "The median variable is the mid point of all the values sorted in ascending order.\n",
    "\n",
    "The median gives a better representation of the average value of a variable compared to the arithmetic mean when the distribution of the values does NOT follow a normal distribution"
   ]
  },
  {
   "cell_type": "markdown",
   "id": "4157eaf5",
   "metadata": {},
   "source": [
    "## 2.2 Dispersion measures"
   ]
  },
  {
   "cell_type": "markdown",
   "id": "6685d758",
   "metadata": {},
   "source": [
    "#### Standard deviation and Variance\n",
    "Standard deviation \n",
    "how much on average \n",
    "values \n",
    "change from the mean\n",
    "\n",
    "Variance\n",
    "average\n",
    "squaerd deviations\n",
    "\n",
    "$$\n",
    "Var(X) = \\frac{1}{N} \\sum_{i=1}^{N} ( X_{i} - \\overline{X} )^2 = \\sigma^2_{X} \\\\\n",
    "X_{i} = Value\\;i\\;of\\;the\\;variable\\;X\\\\\n",
    "X = \\frac{1}{N} \\sum_{i=1}^{N}  X_{i} = Arithmetic\\;average\\;of\\;X\n",
    "$$\n",
    "\n",
    "The reason why we squared deviations is because with negative deviations the average will cancel out, so we squared those values to avoid this from happening.\n",
    "\n",
    "$$\n",
    "SD(X)=\\sqrt{Var(X)}\n",
    "$$\n",
    "\n",
    "Also can be expressed like this:\n",
    "\n",
    "$$\n",
    "Var(X) = E[(X-\\overline{X})^{2}]\n",
    "$$\n",
    "\n",
    "Multiplication of the squared term:\n",
    "\n",
    "$$\n",
    "Var(X) = E[X^{2}-X\\overline{X}-\\overline{X}X+\\overline{X}^{2}]\n",
    "$$\n",
    "\n",
    "Since $$\\overline{X}$$ is a constant and $$E[X] = \\overline{X}$$:\n",
    "\n",
    "$$\n",
    "Var(X) = E[X^{2}] - \\overline{X}E[X] - \\overline{X}E[X] + \\overline{X}^{2} \\\\\n",
    "Var(X) = E[X^{2}] - \\overline{X}^{2}\n",
    "$$\n",
    "\n",
    "Then the variance is:\n",
    "\n",
    "$$\n",
    "Var(x) = \\frac{1}{N}\\sum_{i=1}^{N} (X_{i})^{2} - \\overline{X}^{2}\\\\E[X^{2}] = \\frac{1}{N}\\sum_{i=1}^{N} (X_{i})^{2}\n",
    "$$\n",
    "\n",
    "#### Sample variance\n",
    "\n",
    "We use N-1 to estimate the variance, and this gives a more conservative value.\n",
    "\n",
    "$$\n",
    "Var(x) = \\frac{1}{N-1}\\sum_{i=1}^{N} (X_{i})^{2} - \\overline{X}^{2}\\\\Var(X) = \\frac{1}{N-1} \\sum_{i=1}^{N} ( X_{i} - \\overline{X} )^2 = \\sigma^2_{X} \\\\\n",
    "$$\n"
   ]
  },
  {
   "cell_type": "markdown",
   "id": "e5cd7642",
   "metadata": {},
   "source": [
    "## 2.3 CHALLENGE: DATA management and descriptive Statistics"
   ]
  },
  {
   "cell_type": "markdown",
   "id": "4de8ecba",
   "metadata": {},
   "source": [
    "Import the libraries:"
   ]
  },
  {
   "cell_type": "code",
   "execution_count": 4,
   "id": "9fba03ee",
   "metadata": {},
   "outputs": [],
   "source": [
    "import numpy as np\n",
    "import pandas as pd\n",
    "import yfinance as yf"
   ]
  },
  {
   "cell_type": "markdown",
   "id": "96606365",
   "metadata": {},
   "source": [
    "Download daily prices for bitcoin 2017:"
   ]
  },
  {
   "cell_type": "code",
   "execution_count": 5,
   "id": "99c444a1",
   "metadata": {},
   "outputs": [
    {
     "name": "stdout",
     "output_type": "stream",
     "text": [
      "[*********************100%***********************]  1 of 1 completed\n"
     ]
    }
   ],
   "source": [
    "BTC=yf.download(tickers=\"BTC-USD\", start=\"2017-01-01\",interval=\"1mo\")"
   ]
  },
  {
   "cell_type": "markdown",
   "id": "e8f86e3a",
   "metadata": {},
   "source": [
    "Show the content of the data:"
   ]
  },
  {
   "cell_type": "code",
   "execution_count": 6,
   "id": "caef2430",
   "metadata": {},
   "outputs": [
    {
     "data": {
      "text/html": [
       "<div>\n",
       "<style scoped>\n",
       "    .dataframe tbody tr th:only-of-type {\n",
       "        vertical-align: middle;\n",
       "    }\n",
       "\n",
       "    .dataframe tbody tr th {\n",
       "        vertical-align: top;\n",
       "    }\n",
       "\n",
       "    .dataframe thead th {\n",
       "        text-align: right;\n",
       "    }\n",
       "</style>\n",
       "<table border=\"1\" class=\"dataframe\">\n",
       "  <thead>\n",
       "    <tr style=\"text-align: right;\">\n",
       "      <th></th>\n",
       "      <th>Open</th>\n",
       "      <th>High</th>\n",
       "      <th>Low</th>\n",
       "      <th>Close</th>\n",
       "      <th>Adj Close</th>\n",
       "      <th>Volume</th>\n",
       "    </tr>\n",
       "    <tr>\n",
       "      <th>Date</th>\n",
       "      <th></th>\n",
       "      <th></th>\n",
       "      <th></th>\n",
       "      <th></th>\n",
       "      <th></th>\n",
       "      <th></th>\n",
       "    </tr>\n",
       "  </thead>\n",
       "  <tbody>\n",
       "    <tr>\n",
       "      <th>2017-01-01</th>\n",
       "      <td>963.658020</td>\n",
       "      <td>1191.099976</td>\n",
       "      <td>755.755981</td>\n",
       "      <td>970.403015</td>\n",
       "      <td>970.403015</td>\n",
       "      <td>5143971692</td>\n",
       "    </tr>\n",
       "    <tr>\n",
       "      <th>2017-02-01</th>\n",
       "      <td>970.940979</td>\n",
       "      <td>1200.390015</td>\n",
       "      <td>946.690979</td>\n",
       "      <td>1179.969971</td>\n",
       "      <td>1179.969971</td>\n",
       "      <td>4282761200</td>\n",
       "    </tr>\n",
       "    <tr>\n",
       "      <th>2017-03-01</th>\n",
       "      <td>1180.040039</td>\n",
       "      <td>1280.310059</td>\n",
       "      <td>903.713013</td>\n",
       "      <td>1071.790039</td>\n",
       "      <td>1071.790039</td>\n",
       "      <td>10872455960</td>\n",
       "    </tr>\n",
       "    <tr>\n",
       "      <th>2017-04-01</th>\n",
       "      <td>1071.709961</td>\n",
       "      <td>1347.910034</td>\n",
       "      <td>1061.089966</td>\n",
       "      <td>1347.890015</td>\n",
       "      <td>1347.890015</td>\n",
       "      <td>9757448112</td>\n",
       "    </tr>\n",
       "    <tr>\n",
       "      <th>2017-05-01</th>\n",
       "      <td>1348.300049</td>\n",
       "      <td>2763.709961</td>\n",
       "      <td>1348.300049</td>\n",
       "      <td>2286.409912</td>\n",
       "      <td>2286.409912</td>\n",
       "      <td>34261856864</td>\n",
       "    </tr>\n",
       "    <tr>\n",
       "      <th>...</th>\n",
       "      <td>...</td>\n",
       "      <td>...</td>\n",
       "      <td>...</td>\n",
       "      <td>...</td>\n",
       "      <td>...</td>\n",
       "      <td>...</td>\n",
       "    </tr>\n",
       "    <tr>\n",
       "      <th>2023-04-01</th>\n",
       "      <td>28473.332031</td>\n",
       "      <td>31005.607422</td>\n",
       "      <td>27070.849609</td>\n",
       "      <td>29268.806641</td>\n",
       "      <td>29268.806641</td>\n",
       "      <td>511540319004</td>\n",
       "    </tr>\n",
       "    <tr>\n",
       "      <th>2023-05-01</th>\n",
       "      <td>29227.103516</td>\n",
       "      <td>29820.126953</td>\n",
       "      <td>25878.429688</td>\n",
       "      <td>27219.658203</td>\n",
       "      <td>27219.658203</td>\n",
       "      <td>443473015479</td>\n",
       "    </tr>\n",
       "    <tr>\n",
       "      <th>2023-06-01</th>\n",
       "      <td>27218.412109</td>\n",
       "      <td>31389.539062</td>\n",
       "      <td>24797.167969</td>\n",
       "      <td>30477.251953</td>\n",
       "      <td>30477.251953</td>\n",
       "      <td>481734214225</td>\n",
       "    </tr>\n",
       "    <tr>\n",
       "      <th>2023-07-01</th>\n",
       "      <td>30471.847656</td>\n",
       "      <td>31814.515625</td>\n",
       "      <td>28934.294922</td>\n",
       "      <td>29230.111328</td>\n",
       "      <td>29230.111328</td>\n",
       "      <td>382224489090</td>\n",
       "    </tr>\n",
       "    <tr>\n",
       "      <th>2023-08-01</th>\n",
       "      <td>29230.873047</td>\n",
       "      <td>30176.796875</td>\n",
       "      <td>28657.023438</td>\n",
       "      <td>29202.640625</td>\n",
       "      <td>29202.640625</td>\n",
       "      <td>200947417855</td>\n",
       "    </tr>\n",
       "  </tbody>\n",
       "</table>\n",
       "<p>80 rows × 6 columns</p>\n",
       "</div>"
      ],
      "text/plain": [
       "                    Open          High           Low         Close   \n",
       "Date                                                                 \n",
       "2017-01-01    963.658020   1191.099976    755.755981    970.403015  \\\n",
       "2017-02-01    970.940979   1200.390015    946.690979   1179.969971   \n",
       "2017-03-01   1180.040039   1280.310059    903.713013   1071.790039   \n",
       "2017-04-01   1071.709961   1347.910034   1061.089966   1347.890015   \n",
       "2017-05-01   1348.300049   2763.709961   1348.300049   2286.409912   \n",
       "...                  ...           ...           ...           ...   \n",
       "2023-04-01  28473.332031  31005.607422  27070.849609  29268.806641   \n",
       "2023-05-01  29227.103516  29820.126953  25878.429688  27219.658203   \n",
       "2023-06-01  27218.412109  31389.539062  24797.167969  30477.251953   \n",
       "2023-07-01  30471.847656  31814.515625  28934.294922  29230.111328   \n",
       "2023-08-01  29230.873047  30176.796875  28657.023438  29202.640625   \n",
       "\n",
       "               Adj Close        Volume  \n",
       "Date                                    \n",
       "2017-01-01    970.403015    5143971692  \n",
       "2017-02-01   1179.969971    4282761200  \n",
       "2017-03-01   1071.790039   10872455960  \n",
       "2017-04-01   1347.890015    9757448112  \n",
       "2017-05-01   2286.409912   34261856864  \n",
       "...                  ...           ...  \n",
       "2023-04-01  29268.806641  511540319004  \n",
       "2023-05-01  27219.658203  443473015479  \n",
       "2023-06-01  30477.251953  481734214225  \n",
       "2023-07-01  29230.111328  382224489090  \n",
       "2023-08-01  29202.640625  200947417855  \n",
       "\n",
       "[80 rows x 6 columns]"
      ]
     },
     "execution_count": 6,
     "metadata": {},
     "output_type": "execute_result"
    }
   ],
   "source": [
    "BTC"
   ]
  },
  {
   "cell_type": "code",
   "execution_count": 7,
   "id": "cf487a2b",
   "metadata": {},
   "outputs": [
    {
     "data": {
      "text/html": [
       "<div>\n",
       "<style scoped>\n",
       "    .dataframe tbody tr th:only-of-type {\n",
       "        vertical-align: middle;\n",
       "    }\n",
       "\n",
       "    .dataframe tbody tr th {\n",
       "        vertical-align: top;\n",
       "    }\n",
       "\n",
       "    .dataframe thead th {\n",
       "        text-align: right;\n",
       "    }\n",
       "</style>\n",
       "<table border=\"1\" class=\"dataframe\">\n",
       "  <thead>\n",
       "    <tr style=\"text-align: right;\">\n",
       "      <th></th>\n",
       "      <th>Open</th>\n",
       "      <th>High</th>\n",
       "      <th>Low</th>\n",
       "      <th>Close</th>\n",
       "      <th>Adj Close</th>\n",
       "      <th>Volume</th>\n",
       "    </tr>\n",
       "    <tr>\n",
       "      <th>Date</th>\n",
       "      <th></th>\n",
       "      <th></th>\n",
       "      <th></th>\n",
       "      <th></th>\n",
       "      <th></th>\n",
       "      <th></th>\n",
       "    </tr>\n",
       "  </thead>\n",
       "  <tbody>\n",
       "    <tr>\n",
       "      <th>2023-04-01</th>\n",
       "      <td>28473.332031</td>\n",
       "      <td>31005.607422</td>\n",
       "      <td>27070.849609</td>\n",
       "      <td>29268.806641</td>\n",
       "      <td>29268.806641</td>\n",
       "      <td>511540319004</td>\n",
       "    </tr>\n",
       "    <tr>\n",
       "      <th>2023-05-01</th>\n",
       "      <td>29227.103516</td>\n",
       "      <td>29820.126953</td>\n",
       "      <td>25878.429688</td>\n",
       "      <td>27219.658203</td>\n",
       "      <td>27219.658203</td>\n",
       "      <td>443473015479</td>\n",
       "    </tr>\n",
       "    <tr>\n",
       "      <th>2023-06-01</th>\n",
       "      <td>27218.412109</td>\n",
       "      <td>31389.539062</td>\n",
       "      <td>24797.167969</td>\n",
       "      <td>30477.251953</td>\n",
       "      <td>30477.251953</td>\n",
       "      <td>481734214225</td>\n",
       "    </tr>\n",
       "    <tr>\n",
       "      <th>2023-07-01</th>\n",
       "      <td>30471.847656</td>\n",
       "      <td>31814.515625</td>\n",
       "      <td>28934.294922</td>\n",
       "      <td>29230.111328</td>\n",
       "      <td>29230.111328</td>\n",
       "      <td>382224489090</td>\n",
       "    </tr>\n",
       "    <tr>\n",
       "      <th>2023-08-01</th>\n",
       "      <td>29230.873047</td>\n",
       "      <td>30176.796875</td>\n",
       "      <td>28657.023438</td>\n",
       "      <td>29202.640625</td>\n",
       "      <td>29202.640625</td>\n",
       "      <td>200947417855</td>\n",
       "    </tr>\n",
       "  </tbody>\n",
       "</table>\n",
       "</div>"
      ],
      "text/plain": [
       "                    Open          High           Low         Close   \n",
       "Date                                                                 \n",
       "2023-04-01  28473.332031  31005.607422  27070.849609  29268.806641  \\\n",
       "2023-05-01  29227.103516  29820.126953  25878.429688  27219.658203   \n",
       "2023-06-01  27218.412109  31389.539062  24797.167969  30477.251953   \n",
       "2023-07-01  30471.847656  31814.515625  28934.294922  29230.111328   \n",
       "2023-08-01  29230.873047  30176.796875  28657.023438  29202.640625   \n",
       "\n",
       "               Adj Close        Volume  \n",
       "Date                                    \n",
       "2023-04-01  29268.806641  511540319004  \n",
       "2023-05-01  27219.658203  443473015479  \n",
       "2023-06-01  30477.251953  481734214225  \n",
       "2023-07-01  29230.111328  382224489090  \n",
       "2023-08-01  29202.640625  200947417855  "
      ]
     },
     "execution_count": 7,
     "metadata": {},
     "output_type": "execute_result"
    }
   ],
   "source": [
    "BTC.tail()"
   ]
  },
  {
   "cell_type": "code",
   "execution_count": 5,
   "id": "849e749d",
   "metadata": {},
   "outputs": [
    {
     "data": {
      "image/png": "[encoded data removed]",
      "text/plain": [
       "<Figure size 640x480 with 1 Axes>"
      ]
     },
     "metadata": {},
     "output_type": "display_data"
    }
   ],
   "source": [
    "import matplotlib\n",
    "from matplotlib.pyplot import*\n",
    "plot(BTC[\"Adj Close\"])\n",
    "show()"
   ]
  },
  {
   "cell_type": "code",
   "execution_count": 7,
   "id": "2dd3b92f",
   "metadata": {
    "scrolled": true
   },
   "outputs": [
    {
     "name": "stdout",
     "output_type": "stream",
     "text": [
      "<class 'pandas.core.frame.DataFrame'>\n",
      "DatetimeIndex: 80 entries, 2017-01-01 to 2023-08-01\n",
      "Data columns (total 6 columns):\n",
      " #   Column     Non-Null Count  Dtype  \n",
      "---  ------     --------------  -----  \n",
      " 0   Open       80 non-null     float64\n",
      " 1   High       80 non-null     float64\n",
      " 2   Low        80 non-null     float64\n",
      " 3   Close      80 non-null     float64\n",
      " 4   Adj Close  80 non-null     float64\n",
      " 5   Volume     80 non-null     int64  \n",
      "dtypes: float64(5), int64(1)\n",
      "memory usage: 4.4 KB\n"
     ]
    }
   ],
   "source": [
    "BTC.info()"
   ]
  },
  {
   "cell_type": "markdown",
   "id": "4c328105",
   "metadata": {},
   "source": [
    "## 2.3.2 Data transformations"
   ]
  },
  {
   "cell_type": "markdown",
   "id": "1a0eeaf6",
   "metadata": {},
   "source": [
    "a) The natural logarithm of prices \n",
    "\n",
    "b) Returns\n",
    "\n",
    "Financial return for a stock is calculated:\n",
    "\n",
    "$$R_{t} = \\frac{price_{t}-price_{t-1}}{price_{t-1}}\\\\R_{t} = \\frac{price_{t}}{price_{t-1}}-1$$\n",
    "or example, if the adjusted price of a stock at the end of January 2021 was $ 100.00, and its previous (December 2020) adjusted price was $ 80.00, then the monthly simple return of the stock in January 2021 will be:\n",
    "$$R_{t} = \\frac{price_{t}}{price_{t-1}}-1 = \\frac{100}{80}-1 = 0.25$$\n",
    "\n",
    "This means that the value of 80 increments itself a percentage of 25% of itself \n",
    "\n",
    "To know the end balance of my investment at the end of the first year with an annual interest rate of 50%:\n",
    "$$\n",
    "I_{1}=100*(1+0.50)=150\n",
    "$$\n",
    "\n",
    "If the annual interest rate is 100%:\n",
    "$$\n",
    "I_{1}=100*(1+1)=150\n",
    "$$\n",
    "(1+R) is the growth factor\n",
    "If the interest are compounded each month to calculate how much it will be at the end of the year:\n",
    "$$\n",
    "I_{12} = 100 * (1+\\frac{1}{12})^{1*12}\n",
    "$$\n",
    "If we instead of compounding each month, we compound each moment then we are calculating continously compounded rate.\n",
    "\n",
    "And the growth factor will approach more to the Euler constant.\n",
    "$$(1+\\frac{1}{31536000})^{1*31536000} \\approx e$$"
   ]
  },
  {
   "cell_type": "markdown",
   "id": "985ecdb2",
   "metadata": {},
   "source": [
    "$$\n",
    "r_{t}=log(price_{t})-log(price_{t-1})\\\\\n",
    "r_{t}=log(\\frac{price_{t}}{price_{t-1}})\n",
    "$$"
   ]
  },
  {
   "cell_type": "markdown",
   "id": "648be1de",
   "metadata": {},
   "source": [
    "In this part, add a new column called R1 to prove that the logarithm of the division of these values ​​gives us the same value as the subtraction of the logarithms of the values."
   ]
  },
  {
   "cell_type": "code",
   "execution_count": 14,
   "id": "8349e7f6",
   "metadata": {
    "scrolled": true
   },
   "outputs": [
    {
     "name": "stdout",
     "output_type": "stream",
     "text": [
      "Date\n",
      "2017-01-01         NaN\n",
      "2017-02-01    0.215959\n",
      "2017-03-01   -0.091680\n",
      "2017-04-01    0.257606\n",
      "2017-05-01    0.696288\n",
      "                ...   \n",
      "2023-04-01    0.027752\n",
      "2023-05-01   -0.070011\n",
      "2023-06-01    0.119678\n",
      "2023-07-01   -0.040920\n",
      "2023-08-01   -0.000940\n",
      "Name: R, Length: 80, dtype: float64\n",
      "Date\n",
      "2017-01-01         NaN\n",
      "2017-02-01    0.028430\n",
      "2017-03-01   -0.013595\n",
      "2017-04-01    0.032852\n",
      "2017-05-01    0.073331\n",
      "                ...   \n",
      "2023-04-01    0.002669\n",
      "2023-05-01   -0.007058\n",
      "2023-06-01    0.011070\n",
      "2023-07-01   -0.004047\n",
      "2023-08-01   -0.000091\n",
      "Name: R1, Length: 80, dtype: float64\n"
     ]
    }
   ],
   "source": [
    "BTC[\"R\"] = (BTC[\"Adj Close\"] / BTC[\"Adj Close\"].shift(1)) - 1\n",
    "print(BTC[\"R\"])\n",
    "\n",
    "## The new variable to prove that the logaritm of the division gives us the \n",
    "## the same value that the substraction.\n",
    "BTC[\"R1\"] = (np.log(BTC[\"Adj Close\"]) / np.log(BTC[\"Adj Close\"].shift(1))) - 1\n",
    "print(BTC[\"R1\"])"
   ]
  },
  {
   "cell_type": "code",
   "execution_count": 15,
   "id": "4726e678",
   "metadata": {},
   "outputs": [
    {
     "name": "stdout",
     "output_type": "stream",
     "text": [
      "                    Open          High           Low         Close   \n",
      "Date                                                                 \n",
      "2023-04-01  28473.332031  31005.607422  27070.849609  29268.806641  \\\n",
      "2023-05-01  29227.103516  29820.126953  25878.429688  27219.658203   \n",
      "2023-06-01  27218.412109  31389.539062  24797.167969  30477.251953   \n",
      "2023-07-01  30471.847656  31814.515625  28934.294922  29230.111328   \n",
      "2023-08-01  29230.873047  30176.796875  28657.023438  29202.640625   \n",
      "\n",
      "               Adj Close        Volume         r        r2         R        R1  \n",
      "Date                                                                            \n",
      "2023-04-01  29268.806641  511540319004  0.027373  0.027373  0.027752  0.002669  \n",
      "2023-05-01  27219.658203  443473015479 -0.072583 -0.072583 -0.070011 -0.007058  \n",
      "2023-06-01  30477.251953  481734214225  0.113041  0.113041  0.119678  0.011070  \n",
      "2023-07-01  29230.111328  382224489090 -0.041781 -0.041781 -0.040920 -0.004047  \n",
      "2023-08-01  29202.640625  200947417855 -0.000940 -0.000940 -0.000940 -0.000091  \n"
     ]
    }
   ],
   "source": [
    "BTC[\"r\"] = np.log(BTC['Adj Close']) - np.log(BTC['Adj Close'].shift(1))\n",
    "\n",
    "BTC[\"r2\"] = np.log(BTC['Adj Close']).diff(1)\n",
    "\n",
    "print(BTC.tail())\n",
    "\n",
    "BTCR = BTC[['R','r']].copy()"
   ]
  },
  {
   "cell_type": "markdown",
   "id": "0ead7f76",
   "metadata": {},
   "source": [
    "Three ways to get to the same values, if we divide de logs of the current value and the previous one, we will get the same if we substract them"
   ]
  },
  {
   "cell_type": "code",
   "execution_count": 16,
   "id": "04bf073e",
   "metadata": {},
   "outputs": [],
   "source": [
    "BTCR= BTCR.dropna()"
   ]
  },
  {
   "cell_type": "code",
   "execution_count": 17,
   "id": "1150cc76",
   "metadata": {},
   "outputs": [
    {
     "data": {
      "text/plain": [
       "count    79.000000\n",
       "mean      0.070424\n",
       "std       0.242309\n",
       "min      -0.377688\n",
       "25%      -0.077135\n",
       "50%       0.017298\n",
       "75%       0.234738\n",
       "max       0.696288\n",
       "Name: R, dtype: float64"
      ]
     },
     "execution_count": 17,
     "metadata": {},
     "output_type": "execute_result"
    }
   ],
   "source": [
    "sumret = BTC[\"R\"].describe()\n",
    "sumret"
   ]
  },
  {
   "cell_type": "code",
   "execution_count": 18,
   "id": "403d7ff7",
   "metadata": {},
   "outputs": [
    {
     "data": {
      "text/html": [
       "<div>\n",
       "<style scoped>\n",
       "    .dataframe tbody tr th:only-of-type {\n",
       "        vertical-align: middle;\n",
       "    }\n",
       "\n",
       "    .dataframe tbody tr th {\n",
       "        vertical-align: top;\n",
       "    }\n",
       "\n",
       "    .dataframe thead th {\n",
       "        text-align: right;\n",
       "    }\n",
       "</style>\n",
       "<table border=\"1\" class=\"dataframe\">\n",
       "  <thead>\n",
       "    <tr style=\"text-align: right;\">\n",
       "      <th></th>\n",
       "      <th>R</th>\n",
       "      <th>r</th>\n",
       "    </tr>\n",
       "    <tr>\n",
       "      <th>Date</th>\n",
       "      <th></th>\n",
       "      <th></th>\n",
       "    </tr>\n",
       "  </thead>\n",
       "  <tbody>\n",
       "    <tr>\n",
       "      <th>2018-01-01</th>\n",
       "      <td>-0.277987</td>\n",
       "      <td>-0.325713</td>\n",
       "    </tr>\n",
       "    <tr>\n",
       "      <th>2018-03-01</th>\n",
       "      <td>-0.329333</td>\n",
       "      <td>-0.399482</td>\n",
       "    </tr>\n",
       "    <tr>\n",
       "      <th>2018-05-01</th>\n",
       "      <td>-0.188991</td>\n",
       "      <td>-0.209476</td>\n",
       "    </tr>\n",
       "    <tr>\n",
       "      <th>2018-11-01</th>\n",
       "      <td>-0.364116</td>\n",
       "      <td>-0.452739</td>\n",
       "    </tr>\n",
       "    <tr>\n",
       "      <th>2019-11-01</th>\n",
       "      <td>-0.177177</td>\n",
       "      <td>-0.195014</td>\n",
       "    </tr>\n",
       "    <tr>\n",
       "      <th>2020-03-01</th>\n",
       "      <td>-0.251278</td>\n",
       "      <td>-0.289387</td>\n",
       "    </tr>\n",
       "    <tr>\n",
       "      <th>2021-05-01</th>\n",
       "      <td>-0.353546</td>\n",
       "      <td>-0.436253</td>\n",
       "    </tr>\n",
       "    <tr>\n",
       "      <th>2021-12-01</th>\n",
       "      <td>-0.187684</td>\n",
       "      <td>-0.207865</td>\n",
       "    </tr>\n",
       "    <tr>\n",
       "      <th>2022-01-01</th>\n",
       "      <td>-0.168947</td>\n",
       "      <td>-0.185061</td>\n",
       "    </tr>\n",
       "    <tr>\n",
       "      <th>2022-04-01</th>\n",
       "      <td>-0.171806</td>\n",
       "      <td>-0.188507</td>\n",
       "    </tr>\n",
       "    <tr>\n",
       "      <th>2022-05-01</th>\n",
       "      <td>-0.157035</td>\n",
       "      <td>-0.170830</td>\n",
       "    </tr>\n",
       "    <tr>\n",
       "      <th>2022-06-01</th>\n",
       "      <td>-0.377688</td>\n",
       "      <td>-0.474314</td>\n",
       "    </tr>\n",
       "    <tr>\n",
       "      <th>2022-11-01</th>\n",
       "      <td>-0.162336</td>\n",
       "      <td>-0.177139</td>\n",
       "    </tr>\n",
       "  </tbody>\n",
       "</table>\n",
       "</div>"
      ],
      "text/plain": [
       "                   R         r\n",
       "Date                          \n",
       "2018-01-01 -0.277987 -0.325713\n",
       "2018-03-01 -0.329333 -0.399482\n",
       "2018-05-01 -0.188991 -0.209476\n",
       "2018-11-01 -0.364116 -0.452739\n",
       "2019-11-01 -0.177177 -0.195014\n",
       "2020-03-01 -0.251278 -0.289387\n",
       "2021-05-01 -0.353546 -0.436253\n",
       "2021-12-01 -0.187684 -0.207865\n",
       "2022-01-01 -0.168947 -0.185061\n",
       "2022-04-01 -0.171806 -0.188507\n",
       "2022-05-01 -0.157035 -0.170830\n",
       "2022-06-01 -0.377688 -0.474314\n",
       "2022-11-01 -0.162336 -0.177139"
      ]
     },
     "execution_count": 18,
     "metadata": {},
     "output_type": "execute_result"
    }
   ],
   "source": [
    "BTCR[BTCR[\"R\"]<-0.15]"
   ]
  },
  {
   "cell_type": "code",
   "execution_count": 19,
   "id": "414d73ef",
   "metadata": {},
   "outputs": [
    {
     "data": {
      "text/html": [
       "<div>\n",
       "<style scoped>\n",
       "    .dataframe tbody tr th:only-of-type {\n",
       "        vertical-align: middle;\n",
       "    }\n",
       "\n",
       "    .dataframe tbody tr th {\n",
       "        vertical-align: top;\n",
       "    }\n",
       "\n",
       "    .dataframe thead th {\n",
       "        text-align: right;\n",
       "    }\n",
       "</style>\n",
       "<table border=\"1\" class=\"dataframe\">\n",
       "  <thead>\n",
       "    <tr style=\"text-align: right;\">\n",
       "      <th></th>\n",
       "      <th>R</th>\n",
       "      <th>r</th>\n",
       "    </tr>\n",
       "    <tr>\n",
       "      <th>Date</th>\n",
       "      <th></th>\n",
       "      <th></th>\n",
       "    </tr>\n",
       "  </thead>\n",
       "  <tbody>\n",
       "    <tr>\n",
       "      <th>2017-05-01</th>\n",
       "      <td>0.696288</td>\n",
       "      <td>0.528442</td>\n",
       "    </tr>\n",
       "    <tr>\n",
       "      <th>2017-08-01</th>\n",
       "      <td>0.635768</td>\n",
       "      <td>0.492113</td>\n",
       "    </tr>\n",
       "    <tr>\n",
       "      <th>2019-05-01</th>\n",
       "      <td>0.602493</td>\n",
       "      <td>0.471561</td>\n",
       "    </tr>\n",
       "    <tr>\n",
       "      <th>2017-11-01</th>\n",
       "      <td>0.582091</td>\n",
       "      <td>0.458748</td>\n",
       "    </tr>\n",
       "    <tr>\n",
       "      <th>2017-10-01</th>\n",
       "      <td>0.490858</td>\n",
       "      <td>0.399352</td>\n",
       "    </tr>\n",
       "    <tr>\n",
       "      <th>2020-12-01</th>\n",
       "      <td>0.477732</td>\n",
       "      <td>0.390508</td>\n",
       "    </tr>\n",
       "    <tr>\n",
       "      <th>2020-11-01</th>\n",
       "      <td>0.424123</td>\n",
       "      <td>0.353556</td>\n",
       "    </tr>\n",
       "    <tr>\n",
       "      <th>2021-10-01</th>\n",
       "      <td>0.400267</td>\n",
       "      <td>0.336663</td>\n",
       "    </tr>\n",
       "    <tr>\n",
       "      <th>2023-01-01</th>\n",
       "      <td>0.398356</td>\n",
       "      <td>0.335297</td>\n",
       "    </tr>\n",
       "    <tr>\n",
       "      <th>2017-12-01</th>\n",
       "      <td>0.383326</td>\n",
       "      <td>0.324490</td>\n",
       "    </tr>\n",
       "    <tr>\n",
       "      <th>2021-02-01</th>\n",
       "      <td>0.363088</td>\n",
       "      <td>0.309752</td>\n",
       "    </tr>\n",
       "    <tr>\n",
       "      <th>2020-04-01</th>\n",
       "      <td>0.344779</td>\n",
       "      <td>0.296230</td>\n",
       "    </tr>\n",
       "    <tr>\n",
       "      <th>2018-04-01</th>\n",
       "      <td>0.325089</td>\n",
       "      <td>0.281480</td>\n",
       "    </tr>\n",
       "    <tr>\n",
       "      <th>2021-03-01</th>\n",
       "      <td>0.305311</td>\n",
       "      <td>0.266441</td>\n",
       "    </tr>\n",
       "    <tr>\n",
       "      <th>2019-04-01</th>\n",
       "      <td>0.303337</td>\n",
       "      <td>0.264928</td>\n",
       "    </tr>\n",
       "    <tr>\n",
       "      <th>2020-01-01</th>\n",
       "      <td>0.299840</td>\n",
       "      <td>0.262241</td>\n",
       "    </tr>\n",
       "    <tr>\n",
       "      <th>2020-10-01</th>\n",
       "      <td>0.277853</td>\n",
       "      <td>0.245181</td>\n",
       "    </tr>\n",
       "    <tr>\n",
       "      <th>2019-06-01</th>\n",
       "      <td>0.261549</td>\n",
       "      <td>0.232340</td>\n",
       "    </tr>\n",
       "    <tr>\n",
       "      <th>2017-04-01</th>\n",
       "      <td>0.257606</td>\n",
       "      <td>0.229210</td>\n",
       "    </tr>\n",
       "    <tr>\n",
       "      <th>2020-07-01</th>\n",
       "      <td>0.239163</td>\n",
       "      <td>0.214436</td>\n",
       "    </tr>\n",
       "    <tr>\n",
       "      <th>2023-03-01</th>\n",
       "      <td>0.230313</td>\n",
       "      <td>0.207268</td>\n",
       "    </tr>\n",
       "    <tr>\n",
       "      <th>2017-02-01</th>\n",
       "      <td>0.215959</td>\n",
       "      <td>0.195533</td>\n",
       "    </tr>\n",
       "    <tr>\n",
       "      <th>2018-07-01</th>\n",
       "      <td>0.214934</td>\n",
       "      <td>0.194690</td>\n",
       "    </tr>\n",
       "    <tr>\n",
       "      <th>2021-07-01</th>\n",
       "      <td>0.187934</td>\n",
       "      <td>0.172216</td>\n",
       "    </tr>\n",
       "    <tr>\n",
       "      <th>2022-07-01</th>\n",
       "      <td>0.179541</td>\n",
       "      <td>0.165125</td>\n",
       "    </tr>\n",
       "    <tr>\n",
       "      <th>2017-07-01</th>\n",
       "      <td>0.159019</td>\n",
       "      <td>0.147574</td>\n",
       "    </tr>\n",
       "  </tbody>\n",
       "</table>\n",
       "</div>"
      ],
      "text/plain": [
       "                   R         r\n",
       "Date                          \n",
       "2017-05-01  0.696288  0.528442\n",
       "2017-08-01  0.635768  0.492113\n",
       "2019-05-01  0.602493  0.471561\n",
       "2017-11-01  0.582091  0.458748\n",
       "2017-10-01  0.490858  0.399352\n",
       "2020-12-01  0.477732  0.390508\n",
       "2020-11-01  0.424123  0.353556\n",
       "2021-10-01  0.400267  0.336663\n",
       "2023-01-01  0.398356  0.335297\n",
       "2017-12-01  0.383326  0.324490\n",
       "2021-02-01  0.363088  0.309752\n",
       "2020-04-01  0.344779  0.296230\n",
       "2018-04-01  0.325089  0.281480\n",
       "2021-03-01  0.305311  0.266441\n",
       "2019-04-01  0.303337  0.264928\n",
       "2020-01-01  0.299840  0.262241\n",
       "2020-10-01  0.277853  0.245181\n",
       "2019-06-01  0.261549  0.232340\n",
       "2017-04-01  0.257606  0.229210\n",
       "2020-07-01  0.239163  0.214436\n",
       "2023-03-01  0.230313  0.207268\n",
       "2017-02-01  0.215959  0.195533\n",
       "2018-07-01  0.214934  0.194690\n",
       "2021-07-01  0.187934  0.172216\n",
       "2022-07-01  0.179541  0.165125\n",
       "2017-07-01  0.159019  0.147574"
      ]
     },
     "execution_count": 19,
     "metadata": {},
     "output_type": "execute_result"
    }
   ],
   "source": [
    "BTCR[BTCR[\"R\"]>0.15].sort_values(by=['R'], ascending=False)"
   ]
  },
  {
   "cell_type": "code",
   "execution_count": 20,
   "id": "e4a54b03",
   "metadata": {},
   "outputs": [
    {
     "name": "stdout",
     "output_type": "stream",
     "text": [
      "The daily average return of Bitcoin is  0.043092442427829426\n",
      "The daily variance of Bitcoin is  0.050691734454365846\n",
      "The daily standard deviation (volatility) of Bitcoin return is  0.22514824994737545\n",
      "The daily median return of Bitcoin is  0.01714972738881393\n"
     ]
    }
   ],
   "source": [
    "print(\"The daily average return of Bitcoin is \", BTCR[\"r\"].mean())\n",
    "print(\"The daily variance of Bitcoin is \", BTCR[\"r\"].var())\n",
    "print(\"The daily standard deviation (volatility) of Bitcoin return is \", BTCR[\"r\"].std())\n",
    "print(\"The daily median return of Bitcoin is \",BTCR[\"r\"].median())"
   ]
  },
  {
   "cell_type": "markdown",
   "id": "12a7bbbb",
   "metadata": {},
   "source": [
    "## 3 The histogram"
   ]
  },
  {
   "cell_type": "markdown",
   "id": "66c69488",
   "metadata": {},
   "source": [
    "The histogram uses historical values to measure the frequency."
   ]
  },
  {
   "cell_type": "code",
   "execution_count": 22,
   "id": "5d2ff702",
   "metadata": {},
   "outputs": [
    {
     "name": "stdout",
     "output_type": "stream",
     "text": [
      "[*********************100%***********************]  1 of 1 completed\n"
     ]
    }
   ],
   "source": [
    "BTC=yf.download(tickers=\"BTC-USD\", start=\"2017-01-01\",interval=\"1d\")\n",
    "# I calculate simple and cc return columns:\n",
    "BTC[\"R\"] = (BTC[\"Adj Close\"] / BTC[\"Adj Close\"].shift(1)) - 1\n",
    "BTC[\"r\"] = np.log(BTC['Adj Close']).diff(1)\n",
    "# I keep a new object with only returns:\n",
    "BTCR = BTC[['R','r']].copy()"
   ]
  },
  {
   "cell_type": "code",
   "execution_count": 25,
   "id": "d8e328fd",
   "metadata": {},
   "outputs": [
    {
     "data": {
      "image/png": "[encoded data removed]",
      "text/plain": [
       "<Figure size 640x480 with 1 Axes>"
      ]
     },
     "metadata": {},
     "output_type": "display_data"
    }
   ],
   "source": [
    "# Shows us the frequency with historical values\n",
    "R_bitcoin = pd.DataFrame(BTCR[[\"R\"]])\n",
    "hist=R_bitcoin.plot.hist(bins=12,alpha=0.5,title=\"Histogram of daily Bitcoin Returns\")"
   ]
  },
  {
   "cell_type": "markdown",
   "id": "9b5ac4e6",
   "metadata": {},
   "source": [
    "We can see that the most frequent thing that happens is that it gives us a return of between 0.0 and 0.1"
   ]
  },
  {
   "cell_type": "markdown",
   "id": "2e48e571",
   "metadata": {},
   "source": [
    "### 5.2 CHALLENGE: Simulating the normal distribution"
   ]
  },
  {
   "cell_type": "code",
   "execution_count": 24,
   "id": "e840f52f",
   "metadata": {},
   "outputs": [
    {
     "data": {
      "image/png": "[encoded data removed]",
      "text/plain": [
       "<Figure size 640x480 with 1 Axes>"
      ]
     },
     "metadata": {},
     "output_type": "display_data"
    }
   ],
   "source": [
    "from matplotlib import pyplot\n",
    "pyplot.clf()\n",
    "\n",
    "# We calculate de mean standard deviations and count de samples\n",
    "rmean = BTCR[\"r\"].mean()\n",
    "rsd = BTCR[\"r\"].std()\n",
    "N = BTCR[\"r\"].count()\n",
    "\n",
    "#We simulate the data using a normal distribution\n",
    "simr= np.random.normal(loc=rmean,scale=rsd, size=N)\n",
    "realr = BTCR[\"r\"].to_numpy()\n",
    "\n",
    "#Parameters of the histogram\n",
    "bins = 12\n",
    "\n",
    "#Plot the real values and simulated ones\n",
    "pyplot.hist(simr,bins,alpha=0.5,label='simulated rets')\n",
    "pyplot.hist(realr,bins,alpha=0.5,label='real rets')\n",
    "pyplot.legend(loc='upper left')\n",
    "pyplot.title(label='Histogram of real and simulated cc returns of Bitcoin')\n",
    "\n",
    "pyplot.show()"
   ]
  },
  {
   "cell_type": "markdown",
   "id": "2edadf19",
   "metadata": {},
   "source": [
    "**We can see that the heights reached by both histograms or the frequencies reached by their parameters are very different, but the width or how far each parameter reaches is similar, this may be because in terms of dispersion the values ​​are similar but it can that the real data have extreme data or have a long tail in their distributions.**"
   ]
  },
  {
   "cell_type": "code",
   "execution_count": null,
   "id": "c500bc0a",
   "metadata": {},
   "outputs": [],
   "source": []
  }
 ],
 "metadata": {
  "kernelspec": {
   "display_name": "Python 3 (ipykernel)",
   "language": "python",
   "name": "python3"
  },
  "language_info": {
   "codemirror_mode": {
    "name": "ipython",
    "version": 3
   },
   "file_extension": ".py",
   "mimetype": "text/x-python",
   "name": "python",
   "nbconvert_exporter": "python",
   "pygments_lexer": "ipython3",
   "version": "3.10.9"
  }
 },
 "nbformat": 4,
 "nbformat_minor": 5
}
