{
 "cells": [
  {
   "cell_type": "markdown",
   "id": "9e3408e9",
   "metadata": {},
   "source": [
    "# Workshop 3\n",
    "\n",
    "## Diego Díaz Ayala\n",
    "\n",
    "## A01770236"
   ]
  },
  {
   "cell_type": "markdown",
   "id": "1b6376db",
   "metadata": {},
   "source": [
    "### 3.1 CHALLENGE - IS AMD MEAN RETURN HIGHER THAN INTEL MEAN RETURN"
   ]
  },
  {
   "cell_type": "code",
   "execution_count": 1,
   "id": "844cd345",
   "metadata": {},
   "outputs": [],
   "source": [
    "import yfinance as yf\n",
    "import numpy as np\n",
    "from datetime import datetime\n",
    "from scipy import stats\n",
    "import researchpy as rp"
   ]
  },
  {
   "cell_type": "code",
   "execution_count": 2,
   "id": "e999a6fc",
   "metadata": {},
   "outputs": [
    {
     "name": "stdout",
     "output_type": "stream",
     "text": [
      "[*********************100%***********************]  2 of 2 completed\n"
     ]
    }
   ],
   "source": [
    "start_date = \"2017-01-01\"\n",
    "end_date = \"2022-08-15\"\n",
    "\n",
    "\n",
    "tickers = ['AMD', 'INTC']\n",
    "data = yf.download(tickers, start=start_date, end=end_date, interval=\"1mo\")['Adj Close']\n"
   ]
  },
  {
   "cell_type": "code",
   "execution_count": 3,
   "id": "582fd5ae",
   "metadata": {},
   "outputs": [],
   "source": [
    "returns = np.log(data) - np.log(data.shift(1))\n",
    "returns = returns.dropna()"
   ]
  },
  {
   "cell_type": "code",
   "execution_count": 4,
   "id": "273f53c3",
   "metadata": {},
   "outputs": [],
   "source": [
    "\n",
    "# Definir las hipótesis\n",
    "# H0: (mean(rAMD) - mean(rINTEL)) = 0\n",
    "# Ha: (mean(rAMD) - mean(rINTEL)) <> 0\n",
    "\n",
    "# Calcular el error estándar de la diferencia de medias\n",
    "N = returns['AMD'].count()\n",
    "amdvar = returns['AMD'].var()\n",
    "intelvar = returns['INTC'].var()\n",
    "sediff = np.sqrt((1/N) * (amdvar + intelvar))"
   ]
  },
  {
   "cell_type": "code",
   "execution_count": 5,
   "id": "62c45c57",
   "metadata": {},
   "outputs": [],
   "source": [
    "t = (returns['AMD'].mean() - returns['INTC'].mean()) / sediff"
   ]
  },
  {
   "cell_type": "code",
   "execution_count": 6,
   "id": "4c563500",
   "metadata": {},
   "outputs": [],
   "source": [
    "df = (((N-1) / N**2) * (amdvar + intelvar)**2  / ((amdvar/N)**2 + (intelvar/N)**2))\n",
    "pvalue = 2 * stats.t.sf(np.abs(t), df)"
   ]
  },
  {
   "cell_type": "code",
   "execution_count": 8,
   "id": "8d2c446c",
   "metadata": {},
   "outputs": [
    {
     "name": "stdout",
     "output_type": "stream",
     "text": [
      "t-Estadístico (scipy): 1.4260077923673296\n",
      "Valor p (scipy): 0.15718174712174418\n"
     ]
    }
   ],
   "source": [
    "t_stat, p_value_scipy = stats.ttest_ind(returns['AMD'], returns['INTC'], equal_var=False)\n",
    "\n",
    "\n",
    "print(\"t-Estadístico (scipy):\", t_stat)"
   ]
  },
  {
   "cell_type": "markdown",
   "id": "dfd9126d",
   "metadata": {},
   "source": [
    "THE RULE OF THUMB TELLS US THAT WHEN THE T-STATISTICS IS GREATER THAN 2 WE HAVE STATISTICAL EVIDENCE TO REJECT THE NULL HYPOTHESIS OR AT LEAST AT THE 95% CONFIDENCE LEVEL. IN THIS CASE DE T-STATISTICAL IS 1.42 SO WE CAN´T REJECT OUR NULL HYPOTHESIS."
   ]
  }
 ],
 "metadata": {
  "kernelspec": {
   "display_name": "Python 3 (ipykernel)",
   "language": "python",
   "name": "python3"
  },
  "language_info": {
   "codemirror_mode": {
    "name": "ipython",
    "version": 3
   },
   "file_extension": ".py",
   "mimetype": "text/x-python",
   "name": "python",
   "nbconvert_exporter": "python",
   "pygments_lexer": "ipython3",
   "version": "3.10.9"
  }
 },
 "nbformat": 4,
 "nbformat_minor": 5
}
